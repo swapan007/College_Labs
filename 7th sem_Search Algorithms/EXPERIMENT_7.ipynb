{
  "nbformat": 4,
  "nbformat_minor": 0,
  "metadata": {
    "kernelspec": {
      "display_name": "Python 3",
      "language": "python",
      "name": "python3"
    },
    "language_info": {
      "codemirror_mode": {
        "name": "ipython",
        "version": 3
      },
      "file_extension": ".py",
      "mimetype": "text/x-python",
      "name": "python",
      "nbconvert_exporter": "python",
      "pygments_lexer": "ipython3",
      "version": "3.6.4"
    },
    "colab": {
      "provenance": []
    }
  },
  "cells": [
    {
      "cell_type": "markdown",
      "source": [
        "#### **NAME:** Swapan Chetri\n",
        "#### **QID:** 19030205\n",
        "#### **ROLL Number:** 1901313020\n",
        "#### B.TECH (CSE AIML), 4th Year"
      ],
      "metadata": {
        "id": "20T2p_K_iwcS"
      }
    },
    {
      "cell_type": "markdown",
      "source": [
        "**EXPERIMENT 7:**  Solve the traveling salesman problem using genetic algorithm in python. "
      ],
      "metadata": {
        "id": "MNoHxSIkixn6"
      }
    },
    {
      "cell_type": "code",
      "metadata": {
        "id": "Wxa547h8r1DF"
      },
      "source": [
        "import numpy as np, random, operator, pandas as pd, matplotlib.pyplot as plt"
      ],
      "execution_count": null,
      "outputs": []
    },
    {
      "cell_type": "markdown",
      "metadata": {
        "id": "f7Yqhp1Tr1DU"
      },
      "source": [
        "## Create necessary classes and functions"
      ]
    },
    {
      "cell_type": "markdown",
      "metadata": {
        "id": "xjdVaK0Ur1DW"
      },
      "source": [
        "Create class to handle \"cities\""
      ]
    },
    {
      "cell_type": "code",
      "metadata": {
        "id": "uCfrf-4br1DX"
      },
      "source": [
        "class City:\n",
        "    def __init__(self, x, y):\n",
        "        self.x = x\n",
        "        self.y = y\n",
        "    \n",
        "    def distance(self, city):\n",
        "        xDis = abs(self.x - city.x)\n",
        "        yDis = abs(self.y - city.y)\n",
        "        distance = np.sqrt((xDis ** 2) + (yDis ** 2))\n",
        "        return distance\n",
        "    \n",
        "    def __repr__(self):\n",
        "        return \"(\" + str(self.x) + \",\" + str(self.y) + \")\""
      ],
      "execution_count": null,
      "outputs": []
    },
    {
      "cell_type": "markdown",
      "metadata": {
        "id": "pazwgOEFr1DY"
      },
      "source": [
        "Create a fitness function"
      ]
    },
    {
      "cell_type": "code",
      "metadata": {
        "id": "A1TgVdvEr1DZ"
      },
      "source": [
        "class Fitness:\n",
        "    def __init__(self, route):\n",
        "        self.route = route\n",
        "        self.distance = 0\n",
        "        self.fitness= 0.0\n",
        "    \n",
        "    def routeDistance(self):\n",
        "        if self.distance ==0:\n",
        "            pathDistance = 0\n",
        "            for i in range(0, len(self.route)):\n",
        "                fromCity = self.route[i]\n",
        "                toCity = None\n",
        "                if i + 1 < len(self.route):\n",
        "                    toCity = self.route[i + 1]\n",
        "                else:\n",
        "                    toCity = self.route[0]\n",
        "                pathDistance += fromCity.distance(toCity)\n",
        "            self.distance = pathDistance\n",
        "        return self.distance\n",
        "    \n",
        "    def routeFitness(self):\n",
        "        if self.fitness == 0:\n",
        "            self.fitness = 1 / float(self.routeDistance())\n",
        "        return self.fitness"
      ],
      "execution_count": null,
      "outputs": []
    },
    {
      "cell_type": "markdown",
      "metadata": {
        "id": "SFXgHQTUr1Da"
      },
      "source": [
        "## Create our initial population"
      ]
    },
    {
      "cell_type": "markdown",
      "metadata": {
        "id": "YfOadUu3r1Da"
      },
      "source": [
        "Route generator"
      ]
    },
    {
      "cell_type": "code",
      "metadata": {
        "id": "SkpZLKktr1Db"
      },
      "source": [
        "def createRoute(cityList):\n",
        "    route = random.sample(cityList, len(cityList))\n",
        "    return route"
      ],
      "execution_count": null,
      "outputs": []
    },
    {
      "cell_type": "markdown",
      "metadata": {
        "id": "ZdboQXDjr1Dc"
      },
      "source": [
        "Create first \"population\" (list of routes)"
      ]
    },
    {
      "cell_type": "code",
      "metadata": {
        "id": "4AF3KCRar1Dc"
      },
      "source": [
        "def initialPopulation(popSize, cityList):\n",
        "    population = []\n",
        "\n",
        "    for i in range(0, popSize):\n",
        "        population.append(createRoute(cityList))\n",
        "    return population"
      ],
      "execution_count": null,
      "outputs": []
    },
    {
      "cell_type": "markdown",
      "metadata": {
        "id": "Ez_HmSFTr1Dd"
      },
      "source": [
        "## Create the genetic algorithm"
      ]
    },
    {
      "cell_type": "markdown",
      "metadata": {
        "id": "ffRu71p8r1Dd"
      },
      "source": [
        "Rank individuals"
      ]
    },
    {
      "cell_type": "code",
      "metadata": {
        "id": "PfVYt2FTr1De"
      },
      "source": [
        "def rankRoutes(population):\n",
        "    fitnessResults = {}\n",
        "    for i in range(0,len(population)):\n",
        "        fitnessResults[i] = Fitness(population[i]).routeFitness()\n",
        "    return sorted(fitnessResults.items(), key = operator.itemgetter(1), reverse = True)"
      ],
      "execution_count": null,
      "outputs": []
    },
    {
      "cell_type": "markdown",
      "metadata": {
        "id": "as4ATMPAr1De"
      },
      "source": [
        "Create a selection function that will be used to make the list of parent routes"
      ]
    },
    {
      "cell_type": "code",
      "metadata": {
        "id": "grHl8KEHr1Df"
      },
      "source": [
        "def selection(popRanked, eliteSize):\n",
        "    selectionResults = []\n",
        "    df = pd.DataFrame(np.array(popRanked), columns=[\"Index\",\"Fitness\"])\n",
        "    df['cum_sum'] = df.Fitness.cumsum()\n",
        "    df['cum_perc'] = 100*df.cum_sum/df.Fitness.sum()\n",
        "    \n",
        "    for i in range(0, eliteSize):\n",
        "        selectionResults.append(popRanked[i][0])\n",
        "    for i in range(0, len(popRanked) - eliteSize):\n",
        "        pick = 100*random.random()\n",
        "        for i in range(0, len(popRanked)):\n",
        "            if pick <= df.iat[i,3]:\n",
        "                selectionResults.append(popRanked[i][0])\n",
        "                break\n",
        "    return selectionResults"
      ],
      "execution_count": null,
      "outputs": []
    },
    {
      "cell_type": "markdown",
      "metadata": {
        "id": "1-B_oW3or1Dg"
      },
      "source": [
        "Create mating pool"
      ]
    },
    {
      "cell_type": "code",
      "metadata": {
        "id": "NK8T0zW0r1Dh"
      },
      "source": [
        "def matingPool(population, selectionResults):\n",
        "    matingpool = []\n",
        "    for i in range(0, len(selectionResults)):\n",
        "        index = selectionResults[i]\n",
        "        matingpool.append(population[index])\n",
        "    return matingpool"
      ],
      "execution_count": null,
      "outputs": []
    },
    {
      "cell_type": "markdown",
      "metadata": {
        "id": "0rhzxmK6r1Di"
      },
      "source": [
        "Create a crossover function for two parents to create one child"
      ]
    },
    {
      "cell_type": "code",
      "metadata": {
        "id": "fkAtdA9Rr1Dj"
      },
      "source": [
        "def breed(parent1, parent2):\n",
        "    child = []\n",
        "    childP1 = []\n",
        "    childP2 = []\n",
        "    \n",
        "    geneA = int(random.random() * len(parent1))\n",
        "    geneB = int(random.random() * len(parent1))\n",
        "    \n",
        "    startGene = min(geneA, geneB)\n",
        "    endGene = max(geneA, geneB)\n",
        "\n",
        "    for i in range(startGene, endGene):\n",
        "        childP1.append(parent1[i])\n",
        "        \n",
        "    childP2 = [item for item in parent2 if item not in childP1]\n",
        "\n",
        "    child = childP1 + childP2\n",
        "    return child"
      ],
      "execution_count": null,
      "outputs": []
    },
    {
      "cell_type": "markdown",
      "metadata": {
        "id": "BlUX-KSRr1Dj"
      },
      "source": [
        "Create function to run crossover over full mating pool"
      ]
    },
    {
      "cell_type": "code",
      "metadata": {
        "id": "2qSufRESr1Dk"
      },
      "source": [
        "def breedPopulation(matingpool, eliteSize):\n",
        "    children = []\n",
        "    length = len(matingpool) - eliteSize\n",
        "    pool = random.sample(matingpool, len(matingpool))\n",
        "\n",
        "    for i in range(0,eliteSize):\n",
        "        children.append(matingpool[i])\n",
        "    \n",
        "    for i in range(0, length):\n",
        "        child = breed(pool[i], pool[len(matingpool)-i-1])\n",
        "        children.append(child)\n",
        "    return children"
      ],
      "execution_count": null,
      "outputs": []
    },
    {
      "cell_type": "markdown",
      "metadata": {
        "id": "ktqhrWoLr1Dk"
      },
      "source": [
        "Create function to mutate a single route"
      ]
    },
    {
      "cell_type": "code",
      "metadata": {
        "id": "PTBZioD_r1Dl"
      },
      "source": [
        "def mutate(individual, mutationRate):\n",
        "    for swapped in range(len(individual)):\n",
        "        if(random.random() < mutationRate):\n",
        "            swapWith = int(random.random() * len(individual))\n",
        "            \n",
        "            city1 = individual[swapped]\n",
        "            city2 = individual[swapWith]\n",
        "            \n",
        "            individual[swapped] = city2\n",
        "            individual[swapWith] = city1\n",
        "    return individual"
      ],
      "execution_count": null,
      "outputs": []
    },
    {
      "cell_type": "markdown",
      "metadata": {
        "id": "QYxDHsYyr1Dn"
      },
      "source": [
        "Create function to run mutation over entire population"
      ]
    },
    {
      "cell_type": "code",
      "metadata": {
        "id": "Y7wF5Rzsr1Dn"
      },
      "source": [
        "def mutatePopulation(population, mutationRate):\n",
        "    mutatedPop = []\n",
        "    \n",
        "    for ind in range(0, len(population)):\n",
        "        mutatedInd = mutate(population[ind], mutationRate)\n",
        "        mutatedPop.append(mutatedInd)\n",
        "    return mutatedPop"
      ],
      "execution_count": null,
      "outputs": []
    },
    {
      "cell_type": "markdown",
      "metadata": {
        "id": "4UC1nnMhr1Dp"
      },
      "source": [
        "Put all steps together to create the next generation"
      ]
    },
    {
      "cell_type": "code",
      "metadata": {
        "id": "qnUplUfpr1Dp"
      },
      "source": [
        "def nextGeneration(currentGen, eliteSize, mutationRate):\n",
        "    popRanked = rankRoutes(currentGen)\n",
        "    selectionResults = selection(popRanked, eliteSize)\n",
        "    matingpool = matingPool(currentGen, selectionResults)\n",
        "    children = breedPopulation(matingpool, eliteSize)\n",
        "    nextGeneration = mutatePopulation(children, mutationRate)\n",
        "    return nextGeneration"
      ],
      "execution_count": null,
      "outputs": []
    },
    {
      "cell_type": "markdown",
      "metadata": {
        "id": "Iwjix8UVr1Dq"
      },
      "source": [
        "Final step: create the genetic algorithm"
      ]
    },
    {
      "cell_type": "code",
      "metadata": {
        "id": "8zgxOC1yr1Dr"
      },
      "source": [
        "def geneticAlgorithm(population, popSize, eliteSize, mutationRate, generations):\n",
        "    pop = initialPopulation(popSize, population)\n",
        "    print(\"Initial distance: \" + str(1 / rankRoutes(pop)[0][1]))\n",
        "    \n",
        "    for i in range(0, generations):\n",
        "        pop = nextGeneration(pop, eliteSize, mutationRate)\n",
        "    \n",
        "    print(\"Final distance: \" + str(1 / rankRoutes(pop)[0][1]))\n",
        "    bestRouteIndex = rankRoutes(pop)[0][0]\n",
        "    bestRoute = pop[bestRouteIndex]\n",
        "    return bestRoute"
      ],
      "execution_count": null,
      "outputs": []
    },
    {
      "cell_type": "markdown",
      "metadata": {
        "id": "-ub00cKDr1Dr"
      },
      "source": [
        "## Running the genetic algorithm"
      ]
    },
    {
      "cell_type": "markdown",
      "metadata": {
        "id": "OATRcrSqr1Ds"
      },
      "source": [
        "Create list of cities"
      ]
    },
    {
      "cell_type": "code",
      "metadata": {
        "id": "TuhqFCZzr1Ds"
      },
      "source": [
        "cityList = []\n",
        "\n",
        "for i in range(0,25):\n",
        "    cityList.append(City(x=int(random.random() * 200), y=int(random.random() * 200)))"
      ],
      "execution_count": null,
      "outputs": []
    },
    {
      "cell_type": "markdown",
      "metadata": {
        "id": "_Yft1Ciir1Ds"
      },
      "source": [
        "Run the genetic algorithm"
      ]
    },
    {
      "cell_type": "code",
      "metadata": {
        "id": "1lPb44s4r1Dt",
        "outputId": "67dbaa66-595b-44b2-951a-f682018e7577",
        "colab": {
          "base_uri": "https://localhost:8080/"
        }
      },
      "source": [
        "geneticAlgorithm(population=cityList, popSize=100, eliteSize=20, mutationRate=0.01, generations=500)"
      ],
      "execution_count": null,
      "outputs": [
        {
          "output_type": "stream",
          "name": "stdout",
          "text": [
            "Initial distance: 2059.876642613605\n",
            "Final distance: 843.4330355324712\n"
          ]
        },
        {
          "output_type": "execute_result",
          "data": {
            "text/plain": [
              "[(93,46),\n",
              " (81,69),\n",
              " (71,82),\n",
              " (40,38),\n",
              " (20,63),\n",
              " (33,96),\n",
              " (2,172),\n",
              " (61,140),\n",
              " (68,160),\n",
              " (105,172),\n",
              " (121,199),\n",
              " (120,184),\n",
              " (114,159),\n",
              " (122,141),\n",
              " (128,117),\n",
              " (99,127),\n",
              " (97,112),\n",
              " (172,16),\n",
              " (199,4),\n",
              " (198,29),\n",
              " (189,43),\n",
              " (178,64),\n",
              " (162,55),\n",
              " (104,41),\n",
              " (103,44)]"
            ]
          },
          "metadata": {},
          "execution_count": 16
        }
      ]
    },
    {
      "cell_type": "markdown",
      "metadata": {
        "id": "orJtXrC0r1Dv"
      },
      "source": [
        "## Plot the progress"
      ]
    },
    {
      "cell_type": "markdown",
      "metadata": {
        "id": "hGhhxYgHr1Dv"
      },
      "source": [
        "Note, this will win run a separate GA"
      ]
    },
    {
      "cell_type": "code",
      "metadata": {
        "id": "aokJP3-br1Dv"
      },
      "source": [
        "def geneticAlgorithmPlot(population, popSize, eliteSize, mutationRate, generations):\n",
        "    pop = initialPopulation(popSize, population)\n",
        "    progress = []\n",
        "    progress.append(1 / rankRoutes(pop)[0][1])\n",
        "    \n",
        "    for i in range(0, generations):\n",
        "        pop = nextGeneration(pop, eliteSize, mutationRate)\n",
        "        progress.append(1 / rankRoutes(pop)[0][1])\n",
        "    \n",
        "    plt.plot(progress)\n",
        "    plt.ylabel('Distance')\n",
        "    plt.xlabel('Generation')\n",
        "    plt.show()"
      ],
      "execution_count": null,
      "outputs": []
    },
    {
      "cell_type": "markdown",
      "metadata": {
        "id": "R0A6T5Jmr1Dw"
      },
      "source": [
        "Run the function with our assumptions to see how distance has improved in each generation"
      ]
    },
    {
      "cell_type": "code",
      "metadata": {
        "id": "JiIoxhbfr1Dw",
        "outputId": "fc132309-ccc1-44b3-f193-fcff002368c1",
        "colab": {
          "base_uri": "https://localhost:8080/",
          "height": 282
        }
      },
      "source": [
        "geneticAlgorithmPlot(population=cityList, popSize=100, eliteSize=20, mutationRate=0.01, generations=500)"
      ],
      "execution_count": null,
      "outputs": [
        {
          "output_type": "display_data",
          "data": {
            "text/plain": [
              "<Figure size 432x288 with 1 Axes>"
            ],
            "image/png": "[encoded data removed]"
          },
          "metadata": {
            "needs_background": "light"
          }
        }
      ]
    }
  ]
}