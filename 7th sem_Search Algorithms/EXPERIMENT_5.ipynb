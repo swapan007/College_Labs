{
  "nbformat": 4,
  "nbformat_minor": 0,
  "metadata": {
    "colab": {
      "provenance": []
    },
    "kernelspec": {
      "name": "python3",
      "display_name": "Python 3"
    },
    "language_info": {
      "name": "python"
    }
  },
  "cells": [
    {
      "cell_type": "markdown",
      "source": [
        "#### **NAME:** Swapan Chetri\n",
        "#### **QID:** 19030205\n",
        "#### **ROLL Number:** 1901313020\n",
        "#### B.TECH (CSE AIML), 4th Year"
      ],
      "metadata": {
        "id": "U4EkZ3GPLQay"
      }
    },
    {
      "cell_type": "markdown",
      "source": [
        "**EXPERIMENT 5:** Given a graph and a source vertex in the graph, find shortest paths from source to all vertices in any given \n",
        "graph. Use Dijkstra’s algorithm."
      ],
      "metadata": {
        "id": "EEL6h4kMKXm3"
      }
    },
    {
      "cell_type": "code",
      "source": [
        "import sys\n",
        "# Function to find out which of the unvisited node \n",
        "# needs to be visited next\n",
        "def to_be_visited():\n",
        "  global visited_and_distance\n",
        "  v = -10\n",
        "  #choose the vertex with the minimum distance\n",
        "  for index in range(number_of_vertices):\n",
        "    if visited_and_distance[index][0] == 0 and (v < 0 or visited_and_distance[index][1] <= visited_and_distance[v][1]):\n",
        "      v = index\n",
        "  return v\n",
        "# Creating the graph as an adjacency matrix\n",
        "vertices = [[0,1,1,0],\n",
        "            [0,0,1,0],\n",
        "            [0,0,0,1],\n",
        "            [0,0,0,0]]\n",
        "edges = [[0,3,4,0],\n",
        "         [0,0,0.5,0],\n",
        "         [0,0,0,1],\n",
        "         [0,0,0,0]]\n",
        "\n",
        "number_of_vertices = len(vertices[0])\n",
        "\n",
        "# The first element of the lists inside visited_and_distance\n",
        "# denotes if the vertex has been visited.\n",
        "# The second element of the lists inside the visited_and_distance\n",
        "# denotes the distance from the source\n",
        "visited_and_distance = [[0,0]]\n",
        "for i in range(number_of_vertices-1):\n",
        "  visited_and_distance.append([0, sys.maxsize])\n",
        "\n",
        "for vertex in range(number_of_vertices):\n",
        "  # finding the next vertex to be visited.\n",
        "  to_visit = to_be_visited()\n",
        "  for neighbor_index in range(number_of_vertices):\n",
        "    # Calculating the new distance for all unvisited neighbours of the choosen vertex\n",
        "    if vertices[to_visit][neighbor_index] == 1 and visited_and_distance[neighbor_index][0] == 0:\n",
        "      new_distance = visited_and_distance[to_visit][1] \\\n",
        "      + edges[to_visit][neighbor_index]\n",
        "     \n",
        "     # updating the distance of the neighbor if its current distance \n",
        "     # is greater than the distance that has just been calculated\n",
        "      if visited_and_distance[neighbor_index][1] > new_distance:\n",
        "        visited_and_distance[neighbor_index][1] = new_distance\n",
        "\n",
        "  # Visiting the vertex found earlier \n",
        "  visited_and_distance[to_visit][0] = 1\n",
        "\n",
        "i = 0\n",
        "# Printing out the shortest distance from the source to each vertex\n",
        "for distance in visited_and_distance:\n",
        "  print(\"The shortest distance of\", chr(ord('a') + i),\\\n",
        "        \" from the source vertex a is :\", distance[1])"
      ],
      "metadata": {
        "colab": {
          "base_uri": "https://localhost:8080/"
        },
        "id": "x8qlJVnfKeOd",
        "outputId": "5362c5fc-905c-4001-988a-494688175f88"
      },
      "execution_count": null,
      "outputs": [
        {
          "output_type": "stream",
          "name": "stdout",
          "text": [
            "The shortest distance of a  from the source vertex a is : 0\n",
            "The shortest distance of a  from the source vertex a is : 3\n",
            "The shortest distance of a  from the source vertex a is : 3.5\n",
            "The shortest distance of a  from the source vertex a is : 4.5\n"
          ]
        }
      ]
    },
    {
      "cell_type": "code",
      "source": [],
      "metadata": {
        "id": "-5W6CY_CcZg-"
      },
      "execution_count": null,
      "outputs": []
    }
  ]
}