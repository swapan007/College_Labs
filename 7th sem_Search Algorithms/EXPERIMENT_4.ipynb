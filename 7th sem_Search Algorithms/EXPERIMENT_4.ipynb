{
  "nbformat": 4,
  "nbformat_minor": 0,
  "metadata": {
    "colab": {
      "provenance": []
    },
    "kernelspec": {
      "name": "python3",
      "display_name": "Python 3"
    },
    "language_info": {
      "name": "python"
    }
  },
  "cells": [
    {
      "cell_type": "markdown",
      "source": [
        "#### **NAME:** Swapan Chetri\n",
        "#### **QID:** 19030205\n",
        "#### **ROLL Number:** 1901313020\n",
        "#### B.TECH (CSE AIML), 4th Year"
      ],
      "metadata": {
        "id": "d2T_qa6XWe4H"
      }
    },
    {
      "cell_type": "markdown",
      "source": [
        "**EXPERIMENT 4:** A snake is in a maze of N*N sized matrix. It has to travel from source to destination block, but can move only \n",
        "forward or down. Ow will you achieve this. Use Python. \n",
        "Note: Grey blocks are deadends"
      ],
      "metadata": {
        "id": "GcvU5mksHiB-"
      }
    },
    {
      "cell_type": "markdown",
      "source": [
        "# **Lab 4:** Travel From Source To Destination In Maze only forward and down"
      ],
      "metadata": {
        "id": "GbM9xU1FHzwA"
      }
    },
    {
      "cell_type": "code",
      "execution_count": null,
      "metadata": {
        "colab": {
          "base_uri": "https://localhost:8080/"
        },
        "id": "_lmNyesLRD3r",
        "outputId": "c8cc7f21-8cfb-408b-d517-efff81afa05b"
      },
      "outputs": [
        {
          "output_type": "stream",
          "name": "stdout",
          "text": [
            "1 0 0 0 \n",
            "1 1 0 0 \n",
            "0 1 0 0 \n",
            "0 1 1 1 \n"
          ]
        }
      ],
      "source": [
        "N=4\n",
        "def printsolution(sol):\n",
        "  for i in sol:\n",
        "    for j in i:\n",
        "      print(str(j)+\" \",end=\"\")\n",
        "    print(\"\")\n",
        "      # a utility function to check if x,y is valid\n",
        "      # index for N*N Maze\n",
        "def isSafe(maze,x,y):\n",
        "  if x>=0 and x<N and y>=0 and y<N and maze[x][y]==1:\n",
        "    return True\n",
        "  return False\n",
        "def solveMaze(maze):\n",
        "  # creating a 4*4 2-d list\n",
        "  sol=[[0 for j in range(4)]for i in range(4)]\n",
        "  if solveMazeUtil(maze,0,0,sol)==False:\n",
        "    print(\"Solution doesn't exist\")\n",
        "    return False\n",
        "  printsolution(sol)\n",
        "  return True\n",
        "def solveMazeUtil(maze,x,y,sol):\n",
        "  # if(x,y is goal) return True\n",
        "  if x==N-1 and y==N-1 and maze[x][y]==1:\n",
        "    sol[x][y]=1\n",
        "    return True\n",
        "\n",
        "  # check if maze[x][y]is valid\n",
        "  if isSafe(maze,x,y)==True:\n",
        "    # check if the current block is alredy part of solution path.\n",
        "    if sol[x][y]==1:\n",
        "      return False\n",
        "\n",
        "  # mark x,y as part of solution path\n",
        "    sol[x][y]=1\n",
        "\n",
        "  # move forward in x directiom\n",
        "    if solveMazeUtil(maze,x+1,y,sol)==True:\n",
        "      return True\n",
        "\n",
        "    # if moving in x direction doesn't give solution\n",
        "    # then move down in y direction\n",
        "    if solveMazeUtil(maze,x,y+1,sol)==True:\n",
        "      return True\n",
        "\n",
        "      # if moving in y direction doesn't exist give solution then\n",
        "      # move back in x direction\n",
        "    if solveMazeUtil(maze,x-1,y,sol)==True:\n",
        "      return True\n",
        "\n",
        "          # if moving in backwards in x direction doesn't give solution\n",
        "          # then move upwards in y direction\n",
        "\n",
        "    if solveMazeUtil(maze,x,y-1,sol)==True:\n",
        "      return True\n",
        "\n",
        "        # if none of the above movements work then\n",
        "        # BACKTRACK: Unmark x,y as [part of solution path\n",
        "    sol[x][y]=0\n",
        "    return False\n",
        "\n",
        "# Driver program to test above function\n",
        "if __name__==\"__main__\":\n",
        "  # initializing the maze\n",
        "  '''\n",
        "  maze=[[1,0,0,0],\n",
        "        [1,1,0,1],\n",
        "        [0,1,0,0],\n",
        "        [1,1,1,1]]\n",
        "        '''\n",
        "  maze=[[1,0,0,0],\n",
        "        [1,1,0,1],\n",
        "        [0,1,1,0],\n",
        "        [1,1,1,1]]\n",
        "  solveMaze(maze)     \n",
        "  "
      ]
    }
  ]
}