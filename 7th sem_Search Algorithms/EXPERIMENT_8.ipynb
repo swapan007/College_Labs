{
  "nbformat": 4,
  "nbformat_minor": 0,
  "metadata": {
    "colab": {
      "provenance": []
    },
    "kernelspec": {
      "name": "python3",
      "display_name": "Python 3"
    },
    "language_info": {
      "name": "python"
    }
  },
  "cells": [
    {
      "cell_type": "markdown",
      "source": [
        "#### **NAME:** Swapan Chetri\n",
        "#### **QID:** 19030205\n",
        "#### **ROLL Number:** 1901313020\n",
        "#### B.TECH (CSE AIML), 4th Year"
      ],
      "metadata": {
        "id": "pUB1nhtAbxE5"
      }
    },
    {
      "cell_type": "markdown",
      "source": [
        "## **EXPERIMENT 8:** Imagine a real life situation, where you are using a Map (Map on a paper). You are at point A and want to reach point B. Which algorithm you would choose and why."
      ],
      "metadata": {
        "id": "769EivCLbllU"
      }
    },
    {
      "cell_type": "markdown",
      "source": [
        "### ANSWER:\n",
        "\n",
        "We will be using the Dijkstra shortest algorithm as it guarantees the shortest path. Also, it \n",
        "has little complexity as compared to other path searching algorithms. It can be used to \n",
        "calculate the shortest path between a single node to all other nodes and a single source \n",
        "node to a single destination node by stopping the algorithm once the shortest distance is \n",
        "achieved for the destination node."
      ],
      "metadata": {
        "id": "atTCSwbZb6IP"
      }
    }
  ]
}