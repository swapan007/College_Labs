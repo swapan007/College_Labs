{
  "nbformat": 4,
  "nbformat_minor": 0,
  "metadata": {
    "colab": {
      "provenance": []
    },
    "kernelspec": {
      "name": "python3",
      "display_name": "Python 3"
    },
    "language_info": {
      "name": "python"
    }
  },
  "cells": [
    {
      "cell_type": "markdown",
      "source": [
        "#### **NAME:** Swapan Chetri\n",
        "#### **QID:** 19030205\n",
        "#### **ROLL Number:** 1901313020\n",
        "#### B.TECH (CSE AIML), 4th Year"
      ],
      "metadata": {
        "id": "COU8e5rfeoIp"
      }
    },
    {
      "cell_type": "markdown",
      "source": [
        "# **EXPERIMENT 3:**\n",
        "\n",
        "Determine whether goal- or data-driven search would be preferable for solving each of the following \n",
        "problems. Justify your answer. \n",
        "\n",
        "a) Diagnosing mechanical problems in an automobile. \n",
        "\n",
        "b) You have met a person who claims to be your distant cousin, with a common ancester named “John \n",
        "Doe”. Verify the claim.\n",
        "\n",
        "c) Another person claims to be your distant cousin. He does not know the ancester’s name, but knows \n",
        "that it was more than eight generations back. You would like to find this ancester or determine she \n",
        "does not exist"
      ],
      "metadata": {
        "id": "AhIBrPKferxk"
      }
    },
    {
      "cell_type": "markdown",
      "source": [
        "\n",
        "\n",
        "# a. Diagnosing mechanical problems in an automobile\n",
        "\n",
        "This is a data driven problem as we don’t have any end goal here. While performing \n",
        "diagnoses we don’t know what would be the output. We collect facts about the problem and \n",
        "apply rules to that data and derive new facts in order to receive some end goal.\n",
        "\n",
        "# b. You have met a person who claims to be your distant cousin, with a common ancestor named “John Doe”. Verify the claim.\n",
        "\n",
        "This is a goal driven problem. As we know that there is an end goal, which we need to \n",
        "achieve based on the different data collected over different facts. We have a claim and we \n",
        "need to verify it. Hence, its a goal driven problem.\n",
        "\n",
        "# c. Another person claims to be your distant cousin. He does not know the ancestor's name, but knows that it was more than eight generations back. You would like to find this ancestor or determine she does not exist.\n",
        "\n",
        "This is a data driven problem, as we only have facts here and we have to search for the \n",
        "name of this ancestor in our data which we have achieved from the facts given to us.\n"
      ],
      "metadata": {
        "id": "rN4IdttNfV4u"
      }
    },
    {
      "cell_type": "code",
      "execution_count": null,
      "metadata": {
        "id": "hWRQk1IcelGN"
      },
      "outputs": [],
      "source": []
    }
  ]
}