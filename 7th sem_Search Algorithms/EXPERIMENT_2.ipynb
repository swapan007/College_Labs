{
  "nbformat": 4,
  "nbformat_minor": 0,
  "metadata": {
    "colab": {
      "provenance": []
    },
    "kernelspec": {
      "name": "python3",
      "display_name": "Python 3"
    },
    "language_info": {
      "name": "python"
    }
  },
  "cells": [
    {
      "cell_type": "markdown",
      "source": [
        "#### **NAME:** Swapan Chetri\n",
        "#### **QID:** 19030205\n",
        "#### **ROLL Number:** 1901313020\n",
        "#### B.TECH (CSE AIML), 4th Year"
      ],
      "metadata": {
        "id": "R-5C-NnhUHb5"
      }
    },
    {
      "cell_type": "markdown",
      "source": [
        "# **EXPERIMENT 2:**  Perform BFS using Python"
      ],
      "metadata": {
        "id": "sXEr2wCJGwYc"
      }
    },
    {
      "cell_type": "code",
      "source": [
        "# Implementation of BFS in Python\n",
        "# from a given source vertex. BFS(int s)\n",
        "# traverses vertices reachable from s.\n",
        "from collections import defaultdict\n",
        "\n",
        "# This class represents a directed graph\n",
        "# using adjacency list representation\n",
        "class Graph:\n",
        "\n",
        "\t# Constructor\n",
        "\tdef __init__(self):\n",
        "\n",
        "\t\t# default dictionary to store graph\n",
        "\t\tself.graph = defaultdict(list)\n",
        "\n",
        "\t# function to add an edge to graph\n",
        "\tdef addEdge(self,u,v):\n",
        "\t\tself.graph[u].append(v)\n",
        "\n",
        "\t# Function to print a BFS of graph\n",
        "\tdef BFS(self, s):\n",
        "\n",
        "\t\t# Mark all the vertices as not visited\n",
        "\t\tvisited = [False] * (len(self.graph))\n",
        "\n",
        "\t\t# Create a queue for BFS\n",
        "\t\tqueue = []\n",
        "\n",
        "\t\t# Mark the source node as\n",
        "\t\t# visited and enqueue it\n",
        "\t\tqueue.append(s)\n",
        "\t\tvisited[s] = True\n",
        "\n",
        "\t\twhile queue:\n",
        "\n",
        "\t\t\t# Dequeue a vertex from\n",
        "\t\t\t# queue and print it\n",
        "\t\t\ts = queue.pop(0)\n",
        "\t\t\tprint (s, end = \" \")\n",
        "\n",
        "\t\t\t# Get all adjacent vertices of the\n",
        "\t\t\t# dequeued vertex s. If a adjacent\n",
        "\t\t\t# has not been visited, then mark it\n",
        "\t\t\t# visited and enqueue it\n",
        "\t\t\tfor i in self.graph[s]:\n",
        "\t\t\t\tif visited[i] == False:\n",
        "\t\t\t\t\tqueue.append(i)\n",
        "\t\t\t\t\tvisited[i] = True\n",
        "\n",
        "# Driver code\n",
        "g = Graph()\n",
        "g.addEdge(0, 1)\n",
        "g.addEdge(0, 2)\n",
        "g.addEdge(1, 2)\n",
        "g.addEdge(2, 0)\n",
        "g.addEdge(2, 3)\n",
        "g.addEdge(3, 3)\n",
        "\n",
        "print (\"Following is Breadth First Traversal\"\n",
        "\t\t\t\t\" (starting from vertex 2)\")\n",
        "g.BFS(2)"
      ],
      "metadata": {
        "colab": {
          "base_uri": "https://localhost:8080/"
        },
        "id": "Uy1Wg1Y8GtOW",
        "outputId": "5a24d231-dd5e-4597-ef4f-c0981b831918"
      },
      "execution_count": null,
      "outputs": [
        {
          "output_type": "stream",
          "name": "stdout",
          "text": [
            "Following is Breadth First Traversal (starting from vertex 2)\n",
            "2 0 3 1 "
          ]
        }
      ]
    }
  ]
}